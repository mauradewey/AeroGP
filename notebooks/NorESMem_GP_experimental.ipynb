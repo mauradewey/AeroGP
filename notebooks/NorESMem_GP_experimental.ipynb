{
 "cells": [
  {
   "cell_type": "code",
   "execution_count": null,
   "metadata": {},
   "outputs": [],
   "source": [
    "import numpy as np\n",
    "import xarray as xr\n",
    "import matplotlib.pyplot as plt\n",
    "from matplotlib import colors\n",
    "import seaborn as sns\n",
    "import cartopy.crs as ccrs\n",
    "import gpflow\n",
    "import tensorflow as tf\n",
    "import glob\n",
    "from utils_GP import *"
   ]
  },
  {
   "cell_type": "markdown",
   "metadata": {},
   "source": [
    "will turn into GP2: March 2024, adding geodesic distance metric following geokernels (https://github.com/sigmaterra/geokernels) which is an implimentation for sklearn kernels.\n"
   ]
  }
 ],
 "metadata": {
  "language_info": {
   "name": "python"
  }
 },
 "nbformat": 4,
 "nbformat_minor": 2
}
